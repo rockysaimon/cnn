{
 "cells": [
  {
   "cell_type": "code",
   "execution_count": 1,
   "metadata": {},
   "outputs": [],
   "source": [
    "# train_model.py\n",
    "\n",
    "import os\n",
    "import numpy as np\n",
    "import tensorflow as tf\n",
    "from tensorflow.keras.preprocessing.image import ImageDataGenerator\n",
    "from tensorflow.keras.models import Sequential\n",
    "from tensorflow.keras.layers import Conv2D, MaxPooling2D, Flatten, Dense"
   ]
  },
  {
   "cell_type": "code",
   "execution_count": 7,
   "metadata": {},
   "outputs": [],
   "source": [
    "def train_model(data_dir, img_width, img_height, train_split):\n",
    "    # Preprocesamiento y aumento de datos\n",
    "    train_datagen = ImageDataGenerator(\n",
    "        rescale=1./255,\n",
    "        shear_range=0.2,\n",
    "        zoom_range=0.2,\n",
    "        horizontal_flip=True,\n",
    "        validation_split=1-train_split) # 20% de las imágenes se usarán para validación\n",
    "\n",
    "    # Carga de las imágenes desde el directorio y división en conjuntos de entrenamiento y validación\n",
    "    train_generator = train_datagen.flow_from_directory(\n",
    "        data_dir,\n",
    "        target_size=(img_width, img_height),\n",
    "        batch_size=32,\n",
    "        class_mode='categorical',\n",
    "        subset='training') # Conjunto de entrenamiento\n",
    "\n",
    "    validation_generator = train_datagen.flow_from_directory(\n",
    "        data_dir,\n",
    "        target_size=(img_width, img_height),\n",
    "        batch_size=32,\n",
    "        class_mode='categorical',\n",
    "        subset='validation') # Conjunto de validación\n",
    "    \n",
    "    # Definición del modelo CNN\n",
    "    model = Sequential([\n",
    "        Conv2D(32, (3, 3), activation='relu', input_shape=(img_width, img_height, 3)),\n",
    "        MaxPooling2D((2, 2)),\n",
    "        Conv2D(64, (3, 3), activation='relu'),\n",
    "        MaxPooling2D((2, 2)),\n",
    "        Conv2D(128, (3, 3), activation='relu'),\n",
    "        MaxPooling2D((2, 2)),\n",
    "        Conv2D(128, (3, 3), activation='relu'),\n",
    "        MaxPooling2D((2, 2)),\n",
    "        Flatten(),\n",
    "        Dense(512, activation='relu'),\n",
    "        Dense(25, activation='softmax')\n",
    "    ])\n",
    "\n",
    "     # Compilación del modelo\n",
    "    model.compile(optimizer='adam',\n",
    "                  loss='categorical_crossentropy',\n",
    "                  metrics=['accuracy'])\n",
    "\n",
    "    # Entrenamiento del modelo\n",
    "    history = model.fit(\n",
    "        train_generator,\n",
    "        steps_per_epoch=train_generator.samples // train_generator.batch_size,\n",
    "        epochs=8,\n",
    "        validation_data=validation_generator,\n",
    "        validation_steps=validation_generator.samples // validation_generator.batch_size\n",
    "    )\n",
    "    # Guardar el modelo entrenado\n",
    "    keras.saving.save_model(model, 'modelo_entrenado.keras')\n",
    "\n",
    "    return model\n"
   ]
  },
  {
   "cell_type": "code",
   "execution_count": 14,
   "metadata": {},
   "outputs": [
    {
     "name": "stdout",
     "output_type": "stream",
     "text": [
      "Found 7484 images belonging to 25 classes.\n",
      "Found 1855 images belonging to 25 classes.\n",
      "Epoch 1/8\n",
      "\u001b[1m233/233\u001b[0m \u001b[32m━━━━━━━━━━━━━━━━━━━━\u001b[0m\u001b[37m\u001b[0m \u001b[1m70s\u001b[0m 291ms/step - accuracy: 0.4625 - loss: 1.8263 - val_accuracy: 0.8120 - val_loss: 0.6216\n",
      "Epoch 2/8\n",
      "\u001b[1m233/233\u001b[0m \u001b[32m━━━━━━━━━━━━━━━━━━━━\u001b[0m\u001b[37m\u001b[0m \u001b[1m0s\u001b[0m 416us/step - accuracy: 0.8125 - loss: 0.2858 - val_accuracy: 0.7419 - val_loss: 0.4026\n",
      "Epoch 3/8\n",
      "\u001b[1m233/233\u001b[0m \u001b[32m━━━━━━━━━━━━━━━━━━━━\u001b[0m\u001b[37m\u001b[0m \u001b[1m68s\u001b[0m 290ms/step - accuracy: 0.8286 - loss: 0.4966 - val_accuracy: 0.8986 - val_loss: 0.3784\n",
      "Epoch 4/8\n",
      "\u001b[1m233/233\u001b[0m \u001b[32m━━━━━━━━━━━━━━━━━━━━\u001b[0m\u001b[37m\u001b[0m \u001b[1m0s\u001b[0m 394us/step - accuracy: 0.9375 - loss: 0.0729 - val_accuracy: 0.9355 - val_loss: 0.2667\n",
      "Epoch 5/8\n",
      "\u001b[1m233/233\u001b[0m \u001b[32m━━━━━━━━━━━━━━━━━━━━\u001b[0m\u001b[37m\u001b[0m \u001b[1m70s\u001b[0m 298ms/step - accuracy: 0.8929 - loss: 0.3316 - val_accuracy: 0.9265 - val_loss: 0.2755\n",
      "Epoch 6/8\n",
      "\u001b[1m233/233\u001b[0m \u001b[32m━━━━━━━━━━━━━━━━━━━━\u001b[0m\u001b[37m\u001b[0m \u001b[1m0s\u001b[0m 451us/step - accuracy: 0.8750 - loss: 0.1833 - val_accuracy: 0.8710 - val_loss: 0.3015\n",
      "Epoch 7/8\n",
      "\u001b[1m233/233\u001b[0m \u001b[32m━━━━━━━━━━━━━━━━━━━━\u001b[0m\u001b[37m\u001b[0m \u001b[1m69s\u001b[0m 291ms/step - accuracy: 0.9342 - loss: 0.2039 - val_accuracy: 0.9287 - val_loss: 0.2687\n",
      "Epoch 8/8\n",
      "\u001b[1m233/233\u001b[0m \u001b[32m━━━━━━━━━━━━━━━━━━━━\u001b[0m\u001b[37m\u001b[0m \u001b[1m0s\u001b[0m 318us/step - accuracy: 0.9688 - loss: 0.0811 - val_accuracy: 0.9677 - val_loss: 0.0634\n"
     ]
    },
    {
     "name": "stderr",
     "output_type": "stream",
     "text": [
      "WARNING:absl:You are saving your model as an HDF5 file via `model.save()` or `keras.saving.save_model(model)`. This file format is considered legacy. We recommend using instead the native Keras format, e.g. `model.save('my_model.keras')` or `keras.saving.save_model(model, 'my_model.keras')`. \n"
     ]
    }
   ],
   "source": [
    "if __name__ == \"__main__\":\n",
    "    data_dir = r\"C:\\Users\\zapat\\OneDrive\\Documentos\\cnn\\malimg_dataset\\malimg_paper_dataset_imgs\"\n",
    "    img_width, img_height = 150, 150\n",
    "    train_split = 0.8\n",
    "    train_model(data_dir, img_width, img_height, train_split)"
   ]
  },
  {
   "cell_type": "code",
   "execution_count": 15,
   "metadata": {},
   "outputs": [
    {
     "name": "stdout",
     "output_type": "stream",
     "text": [
      "Claves del archivo HDF5: ['model_weights', 'optimizer_weights']\n",
      "Contenido del grupo model_weights :\n",
      "  Datasets: ['conv2d_12', 'conv2d_13', 'conv2d_14', 'conv2d_15', 'dense_6', 'dense_7', 'flatten_3', 'max_pooling2d_12', 'max_pooling2d_13', 'max_pooling2d_14', 'max_pooling2d_15', 'top_level_model_weights']\n",
      "Contenido del grupo optimizer_weights :\n",
      "  Datasets: ['iteration', 'learning_rate', 'sequential_3_conv2d_12_bias_momentum', 'sequential_3_conv2d_12_bias_velocity', 'sequential_3_conv2d_12_kernel_momentum', 'sequential_3_conv2d_12_kernel_velocity', 'sequential_3_conv2d_13_bias_momentum', 'sequential_3_conv2d_13_bias_velocity', 'sequential_3_conv2d_13_kernel_momentum', 'sequential_3_conv2d_13_kernel_velocity', 'sequential_3_conv2d_14_bias_momentum', 'sequential_3_conv2d_14_bias_velocity', 'sequential_3_conv2d_14_kernel_momentum', 'sequential_3_conv2d_14_kernel_velocity', 'sequential_3_conv2d_15_bias_momentum', 'sequential_3_conv2d_15_bias_velocity', 'sequential_3_conv2d_15_kernel_momentum', 'sequential_3_conv2d_15_kernel_velocity', 'sequential_3_dense_6_bias_momentum', 'sequential_3_dense_6_bias_velocity', 'sequential_3_dense_6_kernel_momentum', 'sequential_3_dense_6_kernel_velocity', 'sequential_3_dense_7_bias_momentum', 'sequential_3_dense_7_bias_velocity', 'sequential_3_dense_7_kernel_momentum', 'sequential_3_dense_7_kernel_velocity']\n"
     ]
    }
   ],
   "source": [
    "import h5py\n",
    "\n",
    "# Abre el archivo HDF5 en modo de lectura\n",
    "with h5py.File('prueba.h5', 'r') as file:\n",
    "    # Imprime las claves (nombres de los grupos) del archivo HDF5\n",
    "    print(\"Claves del archivo HDF5:\", list(file.keys()))\n",
    "\n",
    "    # Accede a los grupos y datasets dentro del archivo HDF5\n",
    "    for key in file.keys():\n",
    "        print(\"Contenido del grupo\", key, \":\")\n",
    "        if isinstance(file[key], h5py.Group):\n",
    "            # Si el objeto es un grupo, imprime las claves (nombres de los datasets) dentro del grupo\n",
    "            print(\"  Datasets:\", list(file[key].keys()))\n",
    "        elif isinstance(file[key], h5py.Dataset):\n",
    "            # Si el objeto es un dataset, imprime su forma y tipo de datos\n",
    "            print(\"  Forma:\", file[key].shape)\n",
    "            print(\"  Tipo de datos:\", file[key].dtype)\n",
    "            # Si lo deseas, también puedes imprimir los valores del dataset\n",
    "            # print(\"  Valores:\", file[key][:])\n"
   ]
  }
 ],
 "metadata": {
  "kernelspec": {
   "display_name": "Python 3",
   "language": "python",
   "name": "python3"
  },
  "language_info": {
   "codemirror_mode": {
    "name": "ipython",
    "version": 3
   },
   "file_extension": ".py",
   "mimetype": "text/x-python",
   "name": "python",
   "nbconvert_exporter": "python",
   "pygments_lexer": "ipython3",
   "version": "3.12.2"
  }
 },
 "nbformat": 4,
 "nbformat_minor": 2
}
