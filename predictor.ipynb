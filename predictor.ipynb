{
 "cells": [
  {
   "cell_type": "code",
   "execution_count": 1,
   "metadata": {},
   "outputs": [],
   "source": [
    "# predictor.py\n",
    "\n",
    "import os\n",
    "import numpy as np\n",
    "import tensorflow as tf\n",
    "from tensorflow.keras.preprocessing import image\n",
    "from train_model import train_model  # Importa la función train_model() del archivo train_model.py"
   ]
  },
  {
   "cell_type": "code",
   "execution_count": 2,
   "metadata": {},
   "outputs": [],
   "source": [
    "def cargar_modelo():\n",
    "    model = tf.keras.models.load_model('modelo_entrenado.h5')\n",
    "    return model"
   ]
  },
  {
   "cell_type": "code",
   "execution_count": 3,
   "metadata": {},
   "outputs": [],
   "source": [
    "def predecir_malware(ruta_imagen, model):\n",
    "    img = image.load_img(ruta_imagen, target_size=(150, 150))\n",
    "    img_array = image.img_to_array(img)\n",
    "    img_array = np.expand_dims(img_array, axis=0)\n",
    "    img_array /= 255.0  # Normalizar\n",
    "    prediction = model.predict(img_array)\n",
    "    if prediction[0][0] >= 0.5: # Asumiendo que la clase 0 corresponde a malware\n",
    "        return \"La imagen es malware.\"\n",
    "    else:\n",
    "        return \"La imagen no es malware.\""
   ]
  },
  {
   "cell_type": "code",
   "execution_count": 4,
   "metadata": {},
   "outputs": [
    {
     "name": "stderr",
     "output_type": "stream",
     "text": [
      "WARNING:absl:Compiled the loaded model, but the compiled metrics have yet to be built. `model.compile_metrics` will be empty until you train or evaluate the model.\n"
     ]
    },
    {
     "name": "stdout",
     "output_type": "stream",
     "text": [
      "\u001b[1m1/1\u001b[0m \u001b[32m━━━━━━━━━━━━━━━━━━━━\u001b[0m\u001b[37m\u001b[0m \u001b[1m0s\u001b[0m 85ms/step\n",
      "La imagen es malware.\n"
     ]
    }
   ],
   "source": [
    "if __name__ == \"__main__\":\n",
    "    # Cargar el modelo entrenado\n",
    "    modelo_entrenado = cargar_modelo()\n",
    "    # Ruta de la imagen a predecir\n",
    "    ruta_imagen_a_predecir = r\"C:\\Users\\zapat\\OneDrive\\Documentos\\DeepLearning\\save_img_converted\\000bde2e9a94ba41c0c111ffd80647c2.png\"\n",
    "    resultado = predecir_malware(ruta_imagen_a_predecir, modelo_entrenado)\n",
    "    print(resultado)\n"
   ]
  }
 ],
 "metadata": {
  "kernelspec": {
   "display_name": "Python 3",
   "language": "python",
   "name": "python3"
  },
  "language_info": {
   "codemirror_mode": {
    "name": "ipython",
    "version": 3
   },
   "file_extension": ".py",
   "mimetype": "text/x-python",
   "name": "python",
   "nbconvert_exporter": "python",
   "pygments_lexer": "ipython3",
   "version": "3.12.2"
  }
 },
 "nbformat": 4,
 "nbformat_minor": 2
}
